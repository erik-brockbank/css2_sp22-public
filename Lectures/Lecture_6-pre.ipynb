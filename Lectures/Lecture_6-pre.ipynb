{
 "cells": [
  {
   "cell_type": "markdown",
   "id": "faffd32c",
   "metadata": {},
   "source": [
    "# Lecture 6 (4/8/22)"
   ]
  },
  {
   "cell_type": "markdown",
   "id": "9eff3fbf",
   "metadata": {},
   "source": [
    "*Last time we covered:*\n",
    "- numpy continuation\n",
    "- pandas basics"
   ]
  },
  {
   "cell_type": "markdown",
   "id": "1a7fcedb",
   "metadata": {},
   "source": [
    "**Today's agenda:**\n",
    "- Processing data with pandas"
   ]
  },
  {
   "cell_type": "markdown",
   "id": "757e65df",
   "metadata": {},
   "source": [
    "# Creating new dataframes"
   ]
  },
  {
   "cell_type": "code",
   "execution_count": null,
   "id": "0a44bf92",
   "metadata": {},
   "outputs": [],
   "source": []
  },
  {
   "cell_type": "code",
   "execution_count": null,
   "id": "bde64908",
   "metadata": {},
   "outputs": [],
   "source": []
  },
  {
   "cell_type": "markdown",
   "id": "73cf7938",
   "metadata": {},
   "source": [
    "# Adding data to existing dataframes"
   ]
  },
  {
   "cell_type": "markdown",
   "id": "3a1191ab",
   "metadata": {},
   "source": [
    "## Adding columns (common!)"
   ]
  },
  {
   "cell_type": "code",
   "execution_count": null,
   "id": "f7cc9b09",
   "metadata": {},
   "outputs": [],
   "source": []
  },
  {
   "cell_type": "markdown",
   "id": "36ee4c72",
   "metadata": {},
   "source": [
    "## Adding rows"
   ]
  },
  {
   "cell_type": "code",
   "execution_count": null,
   "id": "acd3f51c",
   "metadata": {},
   "outputs": [],
   "source": []
  },
  {
   "cell_type": "markdown",
   "id": "e56ca03f",
   "metadata": {},
   "source": [
    "## Combining data frames"
   ]
  },
  {
   "cell_type": "code",
   "execution_count": null,
   "id": "04279032",
   "metadata": {},
   "outputs": [],
   "source": []
  },
  {
   "cell_type": "code",
   "execution_count": null,
   "id": "7e43c3ac",
   "metadata": {},
   "outputs": [],
   "source": []
  },
  {
   "cell_type": "markdown",
   "id": "8e3aba92",
   "metadata": {},
   "source": [
    "# Processing data: filtering, grouping, summarizing"
   ]
  },
  {
   "cell_type": "markdown",
   "id": "c217f160",
   "metadata": {},
   "source": [
    "## Filtering: fetch rows that meet certain conditions"
   ]
  },
  {
   "cell_type": "code",
   "execution_count": null,
   "id": "3d30dfcb",
   "metadata": {},
   "outputs": [],
   "source": []
  },
  {
   "cell_type": "markdown",
   "id": "8e18120f",
   "metadata": {},
   "source": [
    "## Grouping and summarizing: analyze and graph your data"
   ]
  },
  {
   "cell_type": "code",
   "execution_count": null,
   "id": "434caa71",
   "metadata": {},
   "outputs": [],
   "source": []
  },
  {
   "cell_type": "code",
   "execution_count": null,
   "id": "9ec55ddf",
   "metadata": {},
   "outputs": [],
   "source": []
  },
  {
   "cell_type": "markdown",
   "id": "05dc840a",
   "metadata": {},
   "source": [
    "## *Method-chaining*: life gets complicated..."
   ]
  },
  {
   "cell_type": "code",
   "execution_count": 1,
   "id": "efa25384",
   "metadata": {},
   "outputs": [],
   "source": [
    "# How it works"
   ]
  },
  {
   "cell_type": "code",
   "execution_count": 2,
   "id": "002bca8a",
   "metadata": {},
   "outputs": [],
   "source": [
    "# Let's practice together (this takes getting used to)"
   ]
  }
 ],
 "metadata": {
  "kernelspec": {
   "display_name": "Python 3 (clean)",
   "language": "python",
   "name": "python3_clean"
  },
  "language_info": {
   "codemirror_mode": {
    "name": "ipython",
    "version": 3
   },
   "file_extension": ".py",
   "mimetype": "text/x-python",
   "name": "python",
   "nbconvert_exporter": "python",
   "pygments_lexer": "ipython3",
   "version": "3.9.5"
  }
 },
 "nbformat": 4,
 "nbformat_minor": 5
}
