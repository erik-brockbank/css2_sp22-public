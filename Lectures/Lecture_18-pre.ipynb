{
 "cells": [
  {
   "cell_type": "markdown",
   "id": "62c7e6f5",
   "metadata": {},
   "source": [
    "# Lecture 18 (5/6/2022)"
   ]
  },
  {
   "cell_type": "markdown",
   "id": "a1ea5e3d",
   "metadata": {},
   "source": [
    "**Announcements**\n",
    "\n"
   ]
  },
  {
   "cell_type": "markdown",
   "id": "cac90fc6",
   "metadata": {},
   "source": [
    "*Last time we covered:*\n",
    "- Classification intro + $k$-nearest neighbors\n",
    "\n",
    "**Today's agenda:**\n",
    "- Evaluating classification\n"
   ]
  },
  {
   "cell_type": "code",
   "execution_count": null,
   "id": "aa6ebecc",
   "metadata": {},
   "outputs": [],
   "source": [
    "import numpy as np\n",
    "import pandas as pd\n",
    "import matplotlib.pyplot as plt\n",
    "import seaborn as sns"
   ]
  },
  {
   "cell_type": "markdown",
   "id": "c8e3d210",
   "metadata": {},
   "source": [
    "# Section\n",
    "\n",
    "Text"
   ]
  },
  {
   "cell_type": "markdown",
   "id": "07509578",
   "metadata": {},
   "source": [
    "## Evaluating classification\n",
    "- confusion matrix (Garrett binary classification ppt)\n",
    "- FP, TP, FA, FN, ... (Garrett binary classification ppt)\n",
    "- Metrics: accuracy, precision, F1, ... (Garrett binary classification ppt)\n",
    "- Thresholds and ROC curves: evaluating ROC curves (AUC) (Garrett lec 15)\n",
    "\n",
    "Vul lecture 7, 7-extras; "
   ]
  },
  {
   "cell_type": "code",
   "execution_count": null,
   "id": "62327e67",
   "metadata": {},
   "outputs": [],
   "source": []
  },
  {
   "cell_type": "code",
   "execution_count": null,
   "id": "1dafd813",
   "metadata": {},
   "outputs": [],
   "source": []
  }
 ],
 "metadata": {
  "kernelspec": {
   "display_name": "Python 3 (clean)",
   "language": "python",
   "name": "python3_clean"
  },
  "language_info": {
   "codemirror_mode": {
    "name": "ipython",
    "version": 3
   },
   "file_extension": ".py",
   "mimetype": "text/x-python",
   "name": "python",
   "nbconvert_exporter": "python",
   "pygments_lexer": "ipython3",
   "version": "3.9.5"
  }
 },
 "nbformat": 4,
 "nbformat_minor": 5
}
