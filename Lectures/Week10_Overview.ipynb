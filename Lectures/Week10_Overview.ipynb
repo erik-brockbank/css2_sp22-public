{
 "cells": [
  {
   "cell_type": "markdown",
   "id": "92342300",
   "metadata": {},
   "source": [
    "# Week 10\n",
    "\n",
    "**Mon. 5/30:** NO CLASS (Holiday)\n",
    "\n",
    "**Weds. 6/1:** Final Project Demos! MEET IN ERC 117\n",
    "\n",
    "**Lecture 28:** Special Topics: web scraping and APIs"
   ]
  }
 ],
 "metadata": {
  "kernelspec": {
   "display_name": "Python 3 (clean)",
   "language": "python",
   "name": "python3_clean"
  },
  "language_info": {
   "codemirror_mode": {
    "name": "ipython",
    "version": 3
   },
   "file_extension": ".py",
   "mimetype": "text/x-python",
   "name": "python",
   "nbconvert_exporter": "python",
   "pygments_lexer": "ipython3",
   "version": "3.9.5"
  }
 },
 "nbformat": 4,
 "nbformat_minor": 5
}
