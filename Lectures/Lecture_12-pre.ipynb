{
 "cells": [
  {
   "cell_type": "markdown",
   "id": "62c7e6f5",
   "metadata": {},
   "source": [
    "# Lecture 12 (4/22/2022)"
   ]
  },
  {
   "cell_type": "markdown",
   "id": "a1ea5e3d",
   "metadata": {},
   "source": [
    "**Announcements**\n",
    "\n"
   ]
  },
  {
   "cell_type": "markdown",
   "id": "cac90fc6",
   "metadata": {},
   "source": [
    "*Last time we covered:*\n",
    "- Tidy data (wide / long format)\n",
    "\n",
    "**Today's agenda:**\n",
    "- Data transformations\n",
    "> Part 1: logarithmic transformations\n",
    ">\n",
    "> Part 2: z-scoring\n",
    ">\n"
   ]
  },
  {
   "cell_type": "code",
   "execution_count": null,
   "id": "aa6ebecc",
   "metadata": {},
   "outputs": [],
   "source": [
    "import numpy as np\n",
    "import pandas as pd\n",
    "import matplotlib.pyplot as plt\n",
    "import seaborn as sns"
   ]
  },
  {
   "cell_type": "markdown",
   "id": "c8e3d210",
   "metadata": {},
   "source": [
    "# Part 1: log transformations"
   ]
  },
  {
   "cell_type": "markdown",
   "id": "d491e3d3",
   "metadata": {},
   "source": [
    "## Why we (sometimes) need log transformations\n",
    "\n",
    "To get a sense of when we may need to transform our data, let's take a look at our `gapminder` dataset once again:"
   ]
  },
  {
   "cell_type": "code",
   "execution_count": null,
   "id": "62327e67",
   "metadata": {},
   "outputs": [],
   "source": [
    "gap = pd.read_csv(\"https://raw.githubusercontent.com/UCSD-CSS-002/ucsd-css-002.github.io/master/datasets/gapminder.csv\")\n",
    "\n",
    "gap"
   ]
  },
  {
   "cell_type": "markdown",
   "id": "15b7b350",
   "metadata": {},
   "source": [
    "Below we plot the distribution of *population* across the countries in this dataset for the most recent year available.\n",
    "\n",
    "What does it look like?"
   ]
  },
  {
   "cell_type": "code",
   "execution_count": null,
   "id": "1dafd813",
   "metadata": {},
   "outputs": [],
   "source": [
    "g = sns.histplot(\n",
    "    data = gap[gap[\"year\"] == 2007],\n",
    "    x = \"pop\",\n",
    "    bins = 20 # even with more bins the distribution is similar\n",
    ")\n",
    "g.set_xlabel(\"Population (billions)\")\n",
    "g.set_title(\"Population by country, 2007\")"
   ]
  },
  {
   "cell_type": "code",
   "execution_count": null,
   "id": "d831c02a",
   "metadata": {},
   "outputs": [],
   "source": [
    "# How skewed is the data above?\n",
    "\n",
    "gap[\"pop\"][gap[\"year\"] == 2007].mean() # ~44M\n",
    "gap[\"pop\"][gap[\"year\"] == 2007].median() # ~10.5M\n",
    "\n",
    "\n",
    "# ...big difference"
   ]
  },
  {
   "cell_type": "markdown",
   "id": "4092e61a",
   "metadata": {},
   "source": [
    "**Why this is a problem?**\n",
    "\n",
    "Most standard statistics assumes that the variables being predicted or serving as predictors are (roughly) normally distributed. Our population data above clearly isn't!\n",
    "\n",
    "**How common is this?**\n",
    "\n",
    "The pattern above isn't unique to population. Many other common variables tend to have similarly shaped distributions. \n",
    "\n",
    "*Can you think of some others?* (hint: remember Zipf's Law back in pset 1?)"
   ]
  },
  {
   "cell_type": "markdown",
   "id": "c82c6270",
   "metadata": {},
   "source": [
    "## What to do with data like the above: log transform!"
   ]
  },
  {
   "cell_type": "markdown",
   "id": "e0e45a90",
   "metadata": {},
   "source": [
    "**What do we mean by log transforming?**\n",
    "\n",
    "We want to convert our population data to a logarithmic scale rather than a linear scale.\n",
    "\n",
    "We'll illustrate this difference below."
   ]
  },
  {
   "cell_type": "code",
   "execution_count": null,
   "id": "6de2baa5",
   "metadata": {},
   "outputs": [],
   "source": [
    "# Our original graph used bins scaled at a linear interval. We're printing them below. \n",
    "\n",
    "_ = sns.histplot(\n",
    "    data = gap[gap[\"year\"] == 2007],\n",
    "    x = \"pop\",\n",
    "    bins = 20\n",
    ")\n",
    "\n",
    "# Here's our original histogram bins: note how they increase by a fixed amount\n",
    "print(\"Histogram bins: {}\".format([str(elem) for elem in plt.xticks()[0]]))\n",
    "\n",
    "# Can print each element minus the previous elemnt to show this\n",
    "# [plt.xticks()[0][i+1] - plt.xticks()[0][i] for i in range(len(plt.xticks()[0])-1)]\n"
   ]
  },
  {
   "cell_type": "code",
   "execution_count": null,
   "id": "f944bcae",
   "metadata": {},
   "outputs": [],
   "source": [
    "# Step 1: let's generate logarithmic scaled bins instead of the above.\n",
    "\n",
    "\n",
    "# Instead of increasing by a fixed amount (200k), they will increase by a fixed *multiple* (10) from 100k to 1B\n",
    "# Use `np.logspace` for this\n",
    "log_bins = np.logspace(base = 10, # specify the base (10 is default)\n",
    "                       start = 5, # specify the start, which is base**start (in this case 10e5)\n",
    "                       stop = 9, # specify the end, which is base**end (in this case 10e9)\n",
    "                       num = 10) # specify the number of bins\n",
    "\n",
    "[str(elem) for elem in log_bins]\n",
    "\n",
    "# These don't increase by a fixed amount\n",
    "# Can print each element minus the previous element as we did above to show this\n",
    "\n",
    "# [log_bins[i+1] - log_bins[i] for i in range(len(log_bins)-1)]\n",
    "\n",
    "# Instead, they increase by a fixed *multiple*\n",
    "# Can print each element in log_bins *divided by* the previous element to show this\n",
    "\n",
    "# [log_bins[i+1] / log_bins[i] for i in range(len(log_bins)-1)]"
   ]
  },
  {
   "cell_type": "code",
   "execution_count": null,
   "id": "0aac4006",
   "metadata": {},
   "outputs": [],
   "source": [
    "# Now, let's use these logarithmic intervals as the basis for our histogram bins\n",
    "\n",
    "g = sns.histplot(\n",
    "    data = gap[gap[\"year\"] == 2007],\n",
    "    x = \"pop\",\n",
    "    bins = log_bins # This is the key change\n",
    ")\n",
    "\n",
    "# NOTE: we need to also specify that the x axis should be drawn on a logarithmic scale \n",
    "# (try graphing without this to see what happens!)\n",
    "g.set_xscale('log')\n"
   ]
  },
  {
   "cell_type": "markdown",
   "id": "4c46b97c",
   "metadata": {},
   "source": [
    "Our data looks normally distributed when we plot it on a log scale. Woo hoo!\n",
    "\n",
    "But we haven't changed the underlying data. \n",
    "\n",
    "Let's log transform *the data itself* so its (log) values are normally distributed.\n"
   ]
  },
  {
   "cell_type": "code",
   "execution_count": null,
   "id": "91083a29",
   "metadata": {},
   "outputs": [],
   "source": [
    "# To do this, use np.log10 (np.log uses the *natural log*)\n",
    "gap['log_pop'] = np.log10(gap['pop'])\n",
    "\n",
    "gap"
   ]
  },
  {
   "cell_type": "markdown",
   "id": "38e55db3",
   "metadata": {},
   "source": [
    "Now what? Let's take a look at our *log transformed* population variable.\n",
    "\n",
    "Is it normally distributed?"
   ]
  },
  {
   "cell_type": "code",
   "execution_count": null,
   "id": "02a79dea",
   "metadata": {},
   "outputs": [],
   "source": [
    "g = sns.histplot(data = gap[gap['year'] == 2007], x = 'log_pop')\n",
    "g.set_xlabel(\"Log transformed population\")"
   ]
  },
  {
   "cell_type": "markdown",
   "id": "a26078eb",
   "metadata": {},
   "source": [
    "## Log transformations: Summary\n",
    "\n",
    "- Statistics and modeling solutions often assume that the underlying variables are *normally distributed*\n",
    "\n",
    "- You can count on many variables in the world being roughly normally distributed (especially with large samples!) \n",
    "\n",
    "- But certain types of data are **reliably not** normally distributed (ex. income, wealth, population, number of Twitter followers, number of Spotify streams, ...)\n",
    "\n",
    "- When your data looks like the examples above (rule of thumb: roughly exponentially distributed, or has very large right skew), it's often the case that the *logarithm* of the data *is normally distributed*.\n",
    "\n",
    "- You can check whether this is true by plotting it on a log scale as we did above. If so, consider *log transforming* your data.\n",
    "\n",
    "Note: using the log transformed values for a variable in statistics or regression changes how you interpret your results (for example, regression coefficients on a log-transformed variable X will reflect the impact of *multiplicative* changes to X on the output variable Y). "
   ]
  },
  {
   "cell_type": "markdown",
   "id": "fc904403",
   "metadata": {},
   "source": [
    "## [OPTIONAL] Why log transformations work for exponential data"
   ]
  },
  {
   "cell_type": "code",
   "execution_count": null,
   "id": "f85956e2",
   "metadata": {},
   "outputs": [],
   "source": []
  },
  {
   "cell_type": "markdown",
   "id": "d424f093",
   "metadata": {},
   "source": [
    "***"
   ]
  },
  {
   "cell_type": "markdown",
   "id": "503f6005",
   "metadata": {},
   "source": [
    "# Part 2: z-scoring"
   ]
  }
 ],
 "metadata": {
  "kernelspec": {
   "display_name": "Python 3 (clean)",
   "language": "python",
   "name": "python3_clean"
  },
  "language_info": {
   "codemirror_mode": {
    "name": "ipython",
    "version": 3
   },
   "file_extension": ".py",
   "mimetype": "text/x-python",
   "name": "python",
   "nbconvert_exporter": "python",
   "pygments_lexer": "ipython3",
   "version": "3.9.5"
  }
 },
 "nbformat": 4,
 "nbformat_minor": 5
}
