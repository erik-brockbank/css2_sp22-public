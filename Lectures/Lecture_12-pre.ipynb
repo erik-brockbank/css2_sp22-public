{
 "cells": [
  {
   "cell_type": "markdown",
   "id": "62c7e6f5",
   "metadata": {},
   "source": [
    "# Lecture 12 (4/22/2022)"
   ]
  },
  {
   "cell_type": "markdown",
   "id": "a1ea5e3d",
   "metadata": {},
   "source": [
    "**Announcements**\n",
    "\n"
   ]
  },
  {
   "cell_type": "markdown",
   "id": "cac90fc6",
   "metadata": {},
   "source": [
    "*Last time we covered:*\n",
    "- Tidy data (wide / long format)\n",
    "\n",
    "**Today's agenda:**\n",
    "- Data transformations\n",
    "> Part 1: logarithmic transformations\n",
    ">\n",
    "> Part 2: z-scoring\n",
    ">\n"
   ]
  },
  {
   "cell_type": "code",
   "execution_count": null,
   "id": "aa6ebecc",
   "metadata": {},
   "outputs": [],
   "source": [
    "import numpy as np\n",
    "import pandas as pd\n",
    "import matplotlib.pyplot as plt\n",
    "import seaborn as sns"
   ]
  },
  {
   "cell_type": "markdown",
   "id": "c8e3d210",
   "metadata": {},
   "source": [
    "# Part 1: log transformations"
   ]
  },
  {
   "cell_type": "markdown",
   "id": "d491e3d3",
   "metadata": {},
   "source": [
    "## Why we (sometimes) need log transformations\n",
    "\n",
    "To get a sense of when we may need to transform our data, let's take a look at our `gapminder` dataset once again:"
   ]
  },
  {
   "cell_type": "code",
   "execution_count": null,
   "id": "62327e67",
   "metadata": {},
   "outputs": [],
   "source": [
    "gap = pd.read_csv(\"https://raw.githubusercontent.com/UCSD-CSS-002/ucsd-css-002.github.io/master/datasets/gapminder.csv\")\n",
    "\n",
    "gap"
   ]
  },
  {
   "cell_type": "markdown",
   "id": "15b7b350",
   "metadata": {},
   "source": [
    "Below we plot the distribution of *population* across the countries in this dataset for the most recent year available.\n",
    "\n",
    "What does it look like?"
   ]
  },
  {
   "cell_type": "code",
   "execution_count": null,
   "id": "1dafd813",
   "metadata": {},
   "outputs": [],
   "source": [
    "g = sns.histplot(\n",
    "    data = gap[gap[\"year\"] == 2007],\n",
    "    x = \"pop\",\n",
    "    bins = 40 # even with more bins the distribution is similar\n",
    ")\n",
    "g.set_xlabel(\"Population (billions)\")\n",
    "g.set_title(\"Population by country, 2007\")"
   ]
  },
  {
   "cell_type": "code",
   "execution_count": null,
   "id": "d831c02a",
   "metadata": {},
   "outputs": [],
   "source": [
    "# How skewed is the data above?\n",
    "\n",
    "gap[\"pop\"][gap[\"year\"] == 2007].mean() # 44M\n",
    "gap[\"pop\"][gap[\"year\"] == 2007].median() # 10.5M\n",
    "\n",
    "\n",
    "# ...big difference"
   ]
  },
  {
   "cell_type": "markdown",
   "id": "4092e61a",
   "metadata": {},
   "source": [
    "**Why this is a problem?**\n",
    "\n",
    "Most standard statistics assumes that the variables being predicted or serving as predictors are (roughly) normally distributed. Our population data above clearly isn't!\n",
    "\n",
    "**How common is this?**\n",
    "\n",
    "The pattern above isn't unique to population. Many other common variables tend to have similarly shaped distributions. \n",
    "\n",
    "*Can you think of some others?* (hint: remember Zipf's Law back in pset 1?)"
   ]
  },
  {
   "cell_type": "markdown",
   "id": "c82c6270",
   "metadata": {},
   "source": [
    "## What to do with data like the above: log transform!"
   ]
  },
  {
   "cell_type": "code",
   "execution_count": null,
   "id": "6de2baa5",
   "metadata": {},
   "outputs": [],
   "source": []
  },
  {
   "cell_type": "markdown",
   "id": "c2932b02",
   "metadata": {},
   "source": [
    "## Is this magic? Nope. Why log transformations work for exponential data."
   ]
  },
  {
   "cell_type": "code",
   "execution_count": null,
   "id": "20a786bb",
   "metadata": {},
   "outputs": [],
   "source": []
  },
  {
   "cell_type": "markdown",
   "id": "a26078eb",
   "metadata": {},
   "source": [
    "## Log transformations: Summary"
   ]
  },
  {
   "cell_type": "code",
   "execution_count": null,
   "id": "c840452b",
   "metadata": {},
   "outputs": [],
   "source": []
  },
  {
   "cell_type": "markdown",
   "id": "d424f093",
   "metadata": {},
   "source": [
    "***"
   ]
  },
  {
   "cell_type": "markdown",
   "id": "503f6005",
   "metadata": {},
   "source": [
    "# Part 2: z-scoring"
   ]
  }
 ],
 "metadata": {
  "kernelspec": {
   "display_name": "Python 3 (clean)",
   "language": "python",
   "name": "python3_clean"
  },
  "language_info": {
   "codemirror_mode": {
    "name": "ipython",
    "version": 3
   },
   "file_extension": ".py",
   "mimetype": "text/x-python",
   "name": "python",
   "nbconvert_exporter": "python",
   "pygments_lexer": "ipython3",
   "version": "3.9.5"
  }
 },
 "nbformat": 4,
 "nbformat_minor": 5
}
