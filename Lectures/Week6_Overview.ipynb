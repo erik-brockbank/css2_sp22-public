{
 "cells": [
  {
   "cell_type": "markdown",
   "id": "92342300",
   "metadata": {},
   "source": [
    "# Week 6\n",
    "\n",
    "**Lecture 16:** Regression: overfitting\n",
    "\n",
    "**Lecture 17:** Classification: intro\n",
    "\n",
    "**Lecture 18:** Classification: logistic regression"
   ]
  }
 ],
 "metadata": {
  "kernelspec": {
   "display_name": "Python 3 (clean)",
   "language": "python",
   "name": "python3_clean"
  },
  "language_info": {
   "codemirror_mode": {
    "name": "ipython",
    "version": 3
   },
   "file_extension": ".py",
   "mimetype": "text/x-python",
   "name": "python",
   "nbconvert_exporter": "python",
   "pygments_lexer": "ipython3",
   "version": "3.9.5"
  }
 },
 "nbformat": 4,
 "nbformat_minor": 5
}
