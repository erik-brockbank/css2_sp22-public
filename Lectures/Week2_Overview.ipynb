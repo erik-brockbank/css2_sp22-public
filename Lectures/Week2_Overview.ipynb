{
 "cells": [
  {
   "cell_type": "markdown",
   "id": "92342300",
   "metadata": {},
   "source": [
    "# Week 2\n",
    "\n",
    "**Lecture 4:** *python review (functions) + numpy*\n",
    "\n",
    "**Lecture 5:** *pandas basics*\n",
    "\n",
    "**Lecture 6:** *pandas advanced*"
   ]
  }
 ],
 "metadata": {
  "kernelspec": {
   "display_name": "Python 3 (clean)",
   "language": "python",
   "name": "python3_clean"
  },
  "language_info": {
   "codemirror_mode": {
    "name": "ipython",
    "version": 3
   },
   "file_extension": ".py",
   "mimetype": "text/x-python",
   "name": "python",
   "nbconvert_exporter": "python",
   "pygments_lexer": "ipython3",
   "version": "3.9.5"
  }
 },
 "nbformat": 4,
 "nbformat_minor": 5
}
