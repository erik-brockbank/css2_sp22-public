{
 "cells": [
  {
   "cell_type": "markdown",
   "id": "92342300",
   "metadata": {},
   "source": [
    "# Week 9\n",
    "\n",
    "**Lecture 25:** Dimensionality reduction: intro (PCA)\n",
    "\n",
    "**Lecture 26:** Dimensionality reduction: evaluating PCA\n",
    "\n",
    "**Lecture 27:** Dimensionality reduction: other solutions"
   ]
  }
 ],
 "metadata": {
  "kernelspec": {
   "display_name": "Python 3 (clean)",
   "language": "python",
   "name": "python3_clean"
  },
  "language_info": {
   "codemirror_mode": {
    "name": "ipython",
    "version": 3
   },
   "file_extension": ".py",
   "mimetype": "text/x-python",
   "name": "python",
   "nbconvert_exporter": "python",
   "pygments_lexer": "ipython3",
   "version": "3.9.5"
  }
 },
 "nbformat": 4,
 "nbformat_minor": 5
}
