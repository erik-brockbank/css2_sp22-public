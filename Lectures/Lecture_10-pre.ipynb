{
 "cells": [
  {
   "cell_type": "markdown",
   "id": "110389e3",
   "metadata": {},
   "source": [
    "# Lecture 10 (4/18/22)"
   ]
  },
  {
   "cell_type": "markdown",
   "id": "4326093d",
   "metadata": {},
   "source": [
    "**Announcements**\n",
    "- Problem set 2 *due tonight at 11:59pm*\n",
    "- Change of grading basis deadline 4/22 (shooting to have pset 1, labs 1 & 2 graded by then)"
   ]
  },
  {
   "cell_type": "markdown",
   "id": "83e7ea0c",
   "metadata": {},
   "source": [
    "*Last time we covered:*\n",
    "- graphing with matplotlib\n",
    "- graphing best practices\n",
    "- graphing with seaborn\n",
    "\n",
    "**Today's agenda:**\n",
    "- Cleaning and structuring data with pandas"
   ]
  },
  {
   "cell_type": "markdown",
   "id": "72586892",
   "metadata": {},
   "source": [
    "# Cleaning data: principles and tools"
   ]
  },
  {
   "cell_type": "code",
   "execution_count": null,
   "id": "bacfb903",
   "metadata": {},
   "outputs": [],
   "source": [
    "import pandas as pd\n",
    "import numpy as np"
   ]
  },
  {
   "cell_type": "markdown",
   "id": "69fbdd65",
   "metadata": {},
   "source": [
    "## What are the sorts of things we (typically) don't want in our data?"
   ]
  },
  {
   "cell_type": "markdown",
   "id": "d50760a8",
   "metadata": {},
   "source": [
    "...\n",
    "\n"
   ]
  },
  {
   "cell_type": "markdown",
   "id": "28ce75f3",
   "metadata": {},
   "source": [
    "## What do the things we don't want in our data look like in python?"
   ]
  },
  {
   "cell_type": "markdown",
   "id": "cdff1454",
   "metadata": {},
   "source": [
    "### Duplicates"
   ]
  },
  {
   "cell_type": "code",
   "execution_count": null,
   "id": "c8e09ed4",
   "metadata": {},
   "outputs": [],
   "source": [
    "# Duplicates: what do they look like?\n",
    "\n",
    "df = pd.DataFrame({\n",
    "    \"sample_int\": np.random.randint(low = 1, high = 10, size = 10)\n",
    "})\n",
    "\n",
    "df\n",
    "df[df.sample_int == 1]\n",
    "\n",
    "# Note: pandas doesn't know these are duplicate rows by default"
   ]
  },
  {
   "cell_type": "markdown",
   "id": "085a49a3",
   "metadata": {},
   "source": [
    "### Missing data"
   ]
  },
  {
   "cell_type": "code",
   "execution_count": null,
   "id": "302f43b9",
   "metadata": {},
   "outputs": [],
   "source": [
    "# Missing data: what does it look like?\n",
    "\n",
    "df.iloc[0] = np.nan\n",
    "df.iloc[1] = None # is this what we expected?\n",
    "\n",
    "\n",
    "df['nans'] = np.nan\n",
    "df['nones'] = None\n",
    "\n",
    "df\n",
    "\n",
    "# Note: sometimes missing data can take other forms, like empty strings if you were expecting a string input\n"
   ]
  },
  {
   "cell_type": "markdown",
   "id": "941d2adc",
   "metadata": {},
   "source": [
    "### Outliers"
   ]
  },
  {
   "cell_type": "code",
   "execution_count": null,
   "id": "8a0804bc",
   "metadata": {},
   "outputs": [],
   "source": [
    "# Outliers: what do they look like?\n",
    "\n",
    "df.iloc[9, 0] = 400\n",
    "\n",
    "df"
   ]
  },
  {
   "cell_type": "markdown",
   "id": "01641dcf",
   "metadata": {},
   "source": [
    "But be careful! Not every unexpected data point is an outlier..."
   ]
  },
  {
   "cell_type": "markdown",
   "id": "e9126467",
   "metadata": {},
   "source": [
    "## Aside: why do we want to detect outliers, missing data, and duplicates in our data?"
   ]
  },
  {
   "cell_type": "code",
   "execution_count": null,
   "id": "1ea24484",
   "metadata": {},
   "outputs": [],
   "source": [
    "# A simple illustration\n",
    "\n",
    "\n",
    "np.mean(df.sample_int) == np.sum(df.sample_int) / len(df.sample_int)\n",
    "\n"
   ]
  },
  {
   "cell_type": "markdown",
   "id": "b4a67016",
   "metadata": {},
   "source": [
    "Take-away: these things can mess up our analyses in lots of ways, which is why we want to find them!"
   ]
  },
  {
   "cell_type": "markdown",
   "id": "57a81250",
   "metadata": {},
   "source": [
    "## How do we check for stuff we don't want in our data?"
   ]
  },
  {
   "cell_type": "markdown",
   "id": "cb04ac2e",
   "metadata": {},
   "source": [
    "### Duplicates"
   ]
  },
  {
   "cell_type": "code",
   "execution_count": null,
   "id": "8038c7f9",
   "metadata": {},
   "outputs": [],
   "source": [
    "# Duplicates\n",
    "\n"
   ]
  },
  {
   "cell_type": "markdown",
   "id": "e9c6826a",
   "metadata": {},
   "source": [
    "### Missing values"
   ]
  },
  {
   "cell_type": "code",
   "execution_count": null,
   "id": "975c0c99",
   "metadata": {},
   "outputs": [],
   "source": [
    "# Missing values\n",
    "\n",
    "\n",
    "pd.isna\n",
    "pd.isnull\n",
    "\n",
    "np.isnan # watch out!"
   ]
  },
  {
   "cell_type": "markdown",
   "id": "8d810386",
   "metadata": {},
   "source": [
    "### Outliers"
   ]
  },
  {
   "cell_type": "markdown",
   "id": "0decd62a",
   "metadata": {},
   "source": [
    "This is one area where graphing our data can be really important!"
   ]
  },
  {
   "cell_type": "markdown",
   "id": "561aa15e",
   "metadata": {},
   "source": [
    "![anscombe](img/anscombe.png)"
   ]
  },
  {
   "cell_type": "markdown",
   "id": "c8b8704a",
   "metadata": {},
   "source": [
    "## How do we get rid of stuff we don't want in our data?\n",
    "\n",
    "Our options are:\n",
    "1. Remove obervations\n",
    "2. Fill in the observations\n",
    "3. Do nothing"
   ]
  },
  {
   "cell_type": "markdown",
   "id": "59e40884",
   "metadata": {},
   "source": [
    "### Duplicates"
   ]
  },
  {
   "cell_type": "code",
   "execution_count": null,
   "id": "6c823faf",
   "metadata": {},
   "outputs": [],
   "source": []
  },
  {
   "cell_type": "markdown",
   "id": "237da271",
   "metadata": {},
   "source": [
    "### Missing values\n",
    "\n",
    "Some good pointers [here](https://pandas.pydata.org/docs/user_guide/missing_data.html)."
   ]
  },
  {
   "cell_type": "code",
   "execution_count": null,
   "id": "eb5b74b4",
   "metadata": {},
   "outputs": [],
   "source": [
    "\n",
    "pd.dropna\n",
    "\n",
    "pd.fillna"
   ]
  },
  {
   "cell_type": "code",
   "execution_count": null,
   "id": "ed8f4029",
   "metadata": {},
   "outputs": [],
   "source": []
  },
  {
   "cell_type": "markdown",
   "id": "d392fd90",
   "metadata": {},
   "source": [
    "### Outliers"
   ]
  },
  {
   "cell_type": "code",
   "execution_count": null,
   "id": "bea886a3",
   "metadata": {},
   "outputs": [],
   "source": []
  },
  {
   "cell_type": "code",
   "execution_count": null,
   "id": "3e823720",
   "metadata": {},
   "outputs": [],
   "source": []
  },
  {
   "cell_type": "markdown",
   "id": "63ea1d60",
   "metadata": {},
   "source": [
    "# Let's practice!"
   ]
  },
  {
   "cell_type": "code",
   "execution_count": null,
   "id": "0dcbf558",
   "metadata": {},
   "outputs": [],
   "source": []
  }
 ],
 "metadata": {
  "kernelspec": {
   "display_name": "Python 3 (clean)",
   "language": "python",
   "name": "python3_clean"
  },
  "language_info": {
   "codemirror_mode": {
    "name": "ipython",
    "version": 3
   },
   "file_extension": ".py",
   "mimetype": "text/x-python",
   "name": "python",
   "nbconvert_exporter": "python",
   "pygments_lexer": "ipython3",
   "version": "3.9.5"
  }
 },
 "nbformat": 4,
 "nbformat_minor": 5
}
